{
 "cells": [
  {
   "cell_type": "code",
   "execution_count": 1,
   "metadata": {},
   "outputs": [],
   "source": [
    "import numpy as np\n",
    "import pandas as pd\n",
    "from pathlib import Path\n",
    "import os.path\n",
    "import matplotlib.pyplot as plt\n",
    "import tensorflow as tf\n",
    "from tensorflow import keras\n",
    "from keras import layers"
   ]
  },
  {
   "cell_type": "code",
   "execution_count": 2,
   "metadata": {},
   "outputs": [
    {
     "name": "stdout",
     "output_type": "stream",
     "text": [
      "..\\..\\..\\dataset_extra_data\\train ..\\..\\..\\dataset_extra_data\\test ..\\..\\..\\dataset_extra_data\\validation\n"
     ]
    }
   ],
   "source": [
    "# Get dataset paths\n",
    "ds_path = Path('..', '..', '..', '..', 'dataset_extra_data')\n",
    "\n",
    "train_path = Path(ds_path, 'train')\n",
    "test_path = Path(ds_path, 'test')\n",
    "validation_path = Path(ds_path, 'validation')\n",
    "\n",
    "print(train_path, test_path, validation_path)"
   ]
  },
  {
   "cell_type": "code",
   "execution_count": 3,
   "metadata": {},
   "outputs": [],
   "source": [
    "# Specify batch size and image size\n",
    "BATCH_SIZE = 32\n",
    "IMG_SIZE = (224, 224)"
   ]
  },
  {
   "cell_type": "code",
   "execution_count": 4,
   "metadata": {},
   "outputs": [
    {
     "ename": "NotFoundError",
     "evalue": "Could not find directory ..\\..\\..\\dataset_extra_data\\train",
     "output_type": "error",
     "traceback": [
      "\u001b[1;31m---------------------------------------------------------------------------\u001b[0m",
      "\u001b[1;31mNotFoundError\u001b[0m                             Traceback (most recent call last)",
      "\u001b[1;32md:\\School\\MinorAI\\VeggieAI\\src\\model\\inception_v3\\second_model\\final_model.ipynb Cell 4'\u001b[0m in \u001b[0;36m<cell line: 2>\u001b[1;34m()\u001b[0m\n\u001b[0;32m      <a href='vscode-notebook-cell:/d%3A/School/MinorAI/VeggieAI/src/model/inception_v3/second_model/final_model.ipynb#ch0000003?line=0'>1</a>\u001b[0m \u001b[39m# Create train dataset from directory\u001b[39;00m\n\u001b[1;32m----> <a href='vscode-notebook-cell:/d%3A/School/MinorAI/VeggieAI/src/model/inception_v3/second_model/final_model.ipynb#ch0000003?line=1'>2</a>\u001b[0m train_dataset \u001b[39m=\u001b[39m tf\u001b[39m.\u001b[39;49mkeras\u001b[39m.\u001b[39;49mutils\u001b[39m.\u001b[39;49mimage_dataset_from_directory(\n\u001b[0;32m      <a href='vscode-notebook-cell:/d%3A/School/MinorAI/VeggieAI/src/model/inception_v3/second_model/final_model.ipynb#ch0000003?line=2'>3</a>\u001b[0m     train_path,\n\u001b[0;32m      <a href='vscode-notebook-cell:/d%3A/School/MinorAI/VeggieAI/src/model/inception_v3/second_model/final_model.ipynb#ch0000003?line=3'>4</a>\u001b[0m     shuffle\u001b[39m=\u001b[39;49m\u001b[39mTrue\u001b[39;49;00m,\n\u001b[0;32m      <a href='vscode-notebook-cell:/d%3A/School/MinorAI/VeggieAI/src/model/inception_v3/second_model/final_model.ipynb#ch0000003?line=4'>5</a>\u001b[0m     batch_size\u001b[39m=\u001b[39;49mBATCH_SIZE,\n\u001b[0;32m      <a href='vscode-notebook-cell:/d%3A/School/MinorAI/VeggieAI/src/model/inception_v3/second_model/final_model.ipynb#ch0000003?line=5'>6</a>\u001b[0m     image_size\u001b[39m=\u001b[39;49mIMG_SIZE\n\u001b[0;32m      <a href='vscode-notebook-cell:/d%3A/School/MinorAI/VeggieAI/src/model/inception_v3/second_model/final_model.ipynb#ch0000003?line=6'>7</a>\u001b[0m )\n\u001b[0;32m      <a href='vscode-notebook-cell:/d%3A/School/MinorAI/VeggieAI/src/model/inception_v3/second_model/final_model.ipynb#ch0000003?line=8'>9</a>\u001b[0m \u001b[39m# Create validation dataset from directory\u001b[39;00m\n\u001b[0;32m     <a href='vscode-notebook-cell:/d%3A/School/MinorAI/VeggieAI/src/model/inception_v3/second_model/final_model.ipynb#ch0000003?line=9'>10</a>\u001b[0m validation_dataset \u001b[39m=\u001b[39m tf\u001b[39m.\u001b[39mkeras\u001b[39m.\u001b[39mutils\u001b[39m.\u001b[39mimage_dataset_from_directory(\n\u001b[0;32m     <a href='vscode-notebook-cell:/d%3A/School/MinorAI/VeggieAI/src/model/inception_v3/second_model/final_model.ipynb#ch0000003?line=10'>11</a>\u001b[0m     validation_path,\n\u001b[0;32m     <a href='vscode-notebook-cell:/d%3A/School/MinorAI/VeggieAI/src/model/inception_v3/second_model/final_model.ipynb#ch0000003?line=11'>12</a>\u001b[0m     shuffle\u001b[39m=\u001b[39m\u001b[39mTrue\u001b[39;00m,\n\u001b[0;32m     <a href='vscode-notebook-cell:/d%3A/School/MinorAI/VeggieAI/src/model/inception_v3/second_model/final_model.ipynb#ch0000003?line=12'>13</a>\u001b[0m     batch_size\u001b[39m=\u001b[39mBATCH_SIZE,\n\u001b[0;32m     <a href='vscode-notebook-cell:/d%3A/School/MinorAI/VeggieAI/src/model/inception_v3/second_model/final_model.ipynb#ch0000003?line=13'>14</a>\u001b[0m     image_size\u001b[39m=\u001b[39mIMG_SIZE\n\u001b[0;32m     <a href='vscode-notebook-cell:/d%3A/School/MinorAI/VeggieAI/src/model/inception_v3/second_model/final_model.ipynb#ch0000003?line=14'>15</a>\u001b[0m )\n",
      "File \u001b[1;32mc:\\Users\\lucab\\anaconda3\\envs\\minor\\lib\\site-packages\\keras\\utils\\image_dataset.py:192\u001b[0m, in \u001b[0;36mimage_dataset_from_directory\u001b[1;34m(directory, labels, label_mode, class_names, color_mode, batch_size, image_size, shuffle, seed, validation_split, subset, interpolation, follow_links, crop_to_aspect_ratio, **kwargs)\u001b[0m\n\u001b[0;32m    190\u001b[0m \u001b[39mif\u001b[39;00m seed \u001b[39mis\u001b[39;00m \u001b[39mNone\u001b[39;00m:\n\u001b[0;32m    191\u001b[0m   seed \u001b[39m=\u001b[39m np\u001b[39m.\u001b[39mrandom\u001b[39m.\u001b[39mrandint(\u001b[39m1e6\u001b[39m)\n\u001b[1;32m--> 192\u001b[0m image_paths, labels, class_names \u001b[39m=\u001b[39m dataset_utils\u001b[39m.\u001b[39;49mindex_directory(\n\u001b[0;32m    193\u001b[0m     directory,\n\u001b[0;32m    194\u001b[0m     labels,\n\u001b[0;32m    195\u001b[0m     formats\u001b[39m=\u001b[39;49mALLOWLIST_FORMATS,\n\u001b[0;32m    196\u001b[0m     class_names\u001b[39m=\u001b[39;49mclass_names,\n\u001b[0;32m    197\u001b[0m     shuffle\u001b[39m=\u001b[39;49mshuffle,\n\u001b[0;32m    198\u001b[0m     seed\u001b[39m=\u001b[39;49mseed,\n\u001b[0;32m    199\u001b[0m     follow_links\u001b[39m=\u001b[39;49mfollow_links)\n\u001b[0;32m    201\u001b[0m \u001b[39mif\u001b[39;00m label_mode \u001b[39m==\u001b[39m \u001b[39m'\u001b[39m\u001b[39mbinary\u001b[39m\u001b[39m'\u001b[39m \u001b[39mand\u001b[39;00m \u001b[39mlen\u001b[39m(class_names) \u001b[39m!=\u001b[39m \u001b[39m2\u001b[39m:\n\u001b[0;32m    202\u001b[0m   \u001b[39mraise\u001b[39;00m \u001b[39mValueError\u001b[39;00m(\n\u001b[0;32m    203\u001b[0m       \u001b[39mf\u001b[39m\u001b[39m'\u001b[39m\u001b[39mWhen passing `label_mode=\u001b[39m\u001b[39m\"\u001b[39m\u001b[39mbinary\u001b[39m\u001b[39m\"\u001b[39m\u001b[39m`, there must be exactly 2 \u001b[39m\u001b[39m'\u001b[39m\n\u001b[0;32m    204\u001b[0m       \u001b[39mf\u001b[39m\u001b[39m'\u001b[39m\u001b[39mclass_names. Received: class_names=\u001b[39m\u001b[39m{\u001b[39;00mclass_names\u001b[39m}\u001b[39;00m\u001b[39m'\u001b[39m)\n",
      "File \u001b[1;32mc:\\Users\\lucab\\anaconda3\\envs\\minor\\lib\\site-packages\\keras\\utils\\dataset_utils.py:66\u001b[0m, in \u001b[0;36mindex_directory\u001b[1;34m(directory, labels, formats, class_names, shuffle, seed, follow_links)\u001b[0m\n\u001b[0;32m     64\u001b[0m \u001b[39melse\u001b[39;00m:\n\u001b[0;32m     65\u001b[0m   subdirs \u001b[39m=\u001b[39m []\n\u001b[1;32m---> 66\u001b[0m   \u001b[39mfor\u001b[39;00m subdir \u001b[39min\u001b[39;00m \u001b[39msorted\u001b[39m(tf\u001b[39m.\u001b[39;49mio\u001b[39m.\u001b[39;49mgfile\u001b[39m.\u001b[39;49mlistdir(directory)):\n\u001b[0;32m     67\u001b[0m     \u001b[39mif\u001b[39;00m tf\u001b[39m.\u001b[39mio\u001b[39m.\u001b[39mgfile\u001b[39m.\u001b[39misdir(tf\u001b[39m.\u001b[39mio\u001b[39m.\u001b[39mgfile\u001b[39m.\u001b[39mjoin(directory, subdir)):\n\u001b[0;32m     68\u001b[0m       \u001b[39mif\u001b[39;00m subdir\u001b[39m.\u001b[39mendswith(\u001b[39m'\u001b[39m\u001b[39m/\u001b[39m\u001b[39m'\u001b[39m):\n",
      "File \u001b[1;32mc:\\Users\\lucab\\anaconda3\\envs\\minor\\lib\\site-packages\\tensorflow\\python\\lib\\io\\file_io.py:766\u001b[0m, in \u001b[0;36mlist_directory_v2\u001b[1;34m(path)\u001b[0m\n\u001b[0;32m    751\u001b[0m \u001b[39m\"\"\"Returns a list of entries contained within a directory.\u001b[39;00m\n\u001b[0;32m    752\u001b[0m \n\u001b[0;32m    753\u001b[0m \u001b[39mThe list is in arbitrary order. It does not contain the special entries \".\"\u001b[39;00m\n\u001b[1;32m   (...)\u001b[0m\n\u001b[0;32m    763\u001b[0m \u001b[39m  errors.NotFoundError if directory doesn't exist\u001b[39;00m\n\u001b[0;32m    764\u001b[0m \u001b[39m\"\"\"\u001b[39;00m\n\u001b[0;32m    765\u001b[0m \u001b[39mif\u001b[39;00m \u001b[39mnot\u001b[39;00m is_directory(path):\n\u001b[1;32m--> 766\u001b[0m   \u001b[39mraise\u001b[39;00m errors\u001b[39m.\u001b[39mNotFoundError(\n\u001b[0;32m    767\u001b[0m       node_def\u001b[39m=\u001b[39m\u001b[39mNone\u001b[39;00m,\n\u001b[0;32m    768\u001b[0m       op\u001b[39m=\u001b[39m\u001b[39mNone\u001b[39;00m,\n\u001b[0;32m    769\u001b[0m       message\u001b[39m=\u001b[39m\u001b[39m\"\u001b[39m\u001b[39mCould not find directory \u001b[39m\u001b[39m{}\u001b[39;00m\u001b[39m\"\u001b[39m\u001b[39m.\u001b[39mformat(path))\n\u001b[0;32m    771\u001b[0m \u001b[39m# Convert each element to string, since the return values of the\u001b[39;00m\n\u001b[0;32m    772\u001b[0m \u001b[39m# vector of string should be interpreted as strings, not bytes.\u001b[39;00m\n\u001b[0;32m    773\u001b[0m \u001b[39mreturn\u001b[39;00m [\n\u001b[0;32m    774\u001b[0m     compat\u001b[39m.\u001b[39mas_str_any(filename)\n\u001b[0;32m    775\u001b[0m     \u001b[39mfor\u001b[39;00m filename \u001b[39min\u001b[39;00m _pywrap_file_io\u001b[39m.\u001b[39mGetChildren(compat\u001b[39m.\u001b[39mpath_to_bytes(path))\n\u001b[0;32m    776\u001b[0m ]\n",
      "\u001b[1;31mNotFoundError\u001b[0m: Could not find directory ..\\..\\..\\dataset_extra_data\\train"
     ]
    }
   ],
   "source": [
    "# Create train dataset from directory\n",
    "train_dataset = tf.keras.utils.image_dataset_from_directory(\n",
    "    train_path,\n",
    "    shuffle=True,\n",
    "    batch_size=BATCH_SIZE,\n",
    "    image_size=IMG_SIZE\n",
    ")\n",
    "\n",
    "# Create validation dataset from directory\n",
    "validation_dataset = tf.keras.utils.image_dataset_from_directory(\n",
    "    validation_path,\n",
    "    shuffle=True,\n",
    "    batch_size=BATCH_SIZE,\n",
    "    image_size=IMG_SIZE\n",
    ")\n",
    "\n",
    "# Create test dataset from directory\n",
    "test_dataset = tf.keras.utils.image_dataset_from_directory(\n",
    "    test_path,\n",
    "    shuffle=True,\n",
    "    batch_size=BATCH_SIZE,\n",
    "    image_size=IMG_SIZE\n",
    ")"
   ]
  },
  {
   "cell_type": "code",
   "execution_count": 7,
   "metadata": {},
   "outputs": [
    {
     "name": "stdout",
     "output_type": "stream",
     "text": [
      "['Bean', 'Broccoli', 'Carrot', 'Cauliflower', 'Tomato']\n"
     ]
    }
   ],
   "source": [
    "# Get all vegetables (classes)\n",
    "class_names = train_dataset.class_names\n",
    "print(class_names)"
   ]
  },
  {
   "cell_type": "code",
   "execution_count": 8,
   "metadata": {},
   "outputs": [],
   "source": [
    "# Use buffered prefetching to load the images from disk without I/O become blocking\n",
    "AUTOTUNE = tf.data.AUTOTUNE\n",
    "\n",
    "train_dataset = train_dataset.prefetch(buffer_size=AUTOTUNE)\n",
    "validation_dataset = validation_dataset.prefetch(buffer_size=AUTOTUNE)\n",
    "test_dataset = test_dataset.prefetch(buffer_size=AUTOTUNE)"
   ]
  },
  {
   "cell_type": "code",
   "execution_count": 9,
   "metadata": {},
   "outputs": [],
   "source": [
    "# Create a data augmentation layer to use in our new 'transfer-learned' model\n",
    "data_augmentation = keras.Sequential(\n",
    "  [\n",
    "    layers.RandomFlip(\"horizontal\"),\n",
    "    layers.RandomRotation(0.2),\n",
    "    layers.RandomZoom(0.1),\n",
    "  ]\n",
    ")"
   ]
  },
  {
   "cell_type": "code",
   "execution_count": 10,
   "metadata": {},
   "outputs": [],
   "source": [
    "# Create a rescaling layer to preprocess input, since MobileNetV2 expects pixel values between [-1, 1]\n",
    "preprocess_input = tf.keras.applications.mobilenet_v2.preprocess_input"
   ]
  },
  {
   "cell_type": "code",
   "execution_count": 11,
   "metadata": {},
   "outputs": [],
   "source": [
    "# Create the base model from the pre-trained model MobileNet V2\n",
    "IMG_SHAPE = IMG_SIZE + (3,)\n",
    "base_model = tf.keras.applications.MobileNetV2(input_shape=IMG_SHAPE,\n",
    "                                               include_top=False,\n",
    "                                               weights='imagenet')"
   ]
  },
  {
   "cell_type": "code",
   "execution_count": 12,
   "metadata": {},
   "outputs": [
    {
     "name": "stdout",
     "output_type": "stream",
     "text": [
      "(32, 5, 5, 1280)\n"
     ]
    }
   ],
   "source": [
    "image_batch, label_batch = next(iter(train_dataset))\n",
    "feature_batch = base_model(image_batch)\n",
    "print(feature_batch.shape)"
   ]
  },
  {
   "cell_type": "code",
   "execution_count": 13,
   "metadata": {},
   "outputs": [],
   "source": [
    "# Freeze the convolutional base of MobileNetV2 model\n",
    "base_model.trainable = False"
   ]
  },
  {
   "cell_type": "code",
   "execution_count": 14,
   "metadata": {},
   "outputs": [
    {
     "name": "stdout",
     "output_type": "stream",
     "text": [
      "(32, 1280)\n"
     ]
    }
   ],
   "source": [
    "# Create layer to convert features to to a single 1280-element vector per image\n",
    "global_average_layer = tf.keras.layers.GlobalAveragePooling2D()\n",
    "feature_batch_average = global_average_layer(feature_batch)\n",
    "print(feature_batch_average.shape)"
   ]
  },
  {
   "cell_type": "code",
   "execution_count": 15,
   "metadata": {},
   "outputs": [
    {
     "name": "stdout",
     "output_type": "stream",
     "text": [
      "(32, 128)\n"
     ]
    }
   ],
   "source": [
    "# Create layer to convert these features into a single prediction\n",
    "prediction_layer = layers.Dense(128, activation='relu')\n",
    "prediction_batch = prediction_layer(feature_batch_average)\n",
    "print(prediction_batch.shape)"
   ]
  },
  {
   "cell_type": "code",
   "execution_count": 16,
   "metadata": {},
   "outputs": [],
   "source": [
    "# Create model with custom layers\n",
    "inputs = tf.keras.Input(shape=(160, 160, 3))\n",
    "x = data_augmentation(inputs)\n",
    "x = preprocess_input(x)\n",
    "x = base_model(x, training=False)\n",
    "x = global_average_layer(x)\n",
    "x = tf.keras.layers.Dropout(0.2)(x)\n",
    "outputs = prediction_layer(x)\n",
    "model = tf.keras.Model(inputs, outputs)"
   ]
  },
  {
   "cell_type": "code",
   "execution_count": 17,
   "metadata": {},
   "outputs": [],
   "source": [
    "base_learning_rate = 0.0001\n",
    "model.compile(optimizer=tf.keras.optimizers.Adam(learning_rate=base_learning_rate),\n",
    "              loss=tf.keras.losses.SparseCategoricalCrossentropy(from_logits=True),\n",
    "              metrics=['accuracy'])"
   ]
  },
  {
   "cell_type": "code",
   "execution_count": 18,
   "metadata": {},
   "outputs": [
    {
     "name": "stdout",
     "output_type": "stream",
     "text": [
      "37/37 [==============================] - 8s 164ms/step - loss: 5.0200 - accuracy: 0.0060\n"
     ]
    }
   ],
   "source": [
    "# Check initial model accuracy without training\n",
    "epochs = 10\n",
    "loss0, accuracy0 = model.evaluate(validation_dataset)"
   ]
  },
  {
   "cell_type": "code",
   "execution_count": 19,
   "metadata": {},
   "outputs": [
    {
     "name": "stdout",
     "output_type": "stream",
     "text": [
      "Epoch 1/10\n",
      "185/185 [==============================] - 45s 234ms/step - loss: 2.7669 - accuracy: 0.4100 - val_loss: 1.4390 - val_accuracy: 0.7623\n",
      "Epoch 2/10\n",
      "185/185 [==============================] - 39s 212ms/step - loss: 0.7824 - accuracy: 0.8666 - val_loss: 0.4813 - val_accuracy: 0.9569\n",
      "Epoch 3/10\n",
      "185/185 [==============================] - 40s 213ms/step - loss: 0.3524 - accuracy: 0.9483 - val_loss: 0.2458 - val_accuracy: 0.9828\n",
      "Epoch 4/10\n",
      "185/185 [==============================] - 39s 212ms/step - loss: 0.2198 - accuracy: 0.9630 - val_loss: 0.1571 - val_accuracy: 0.9854\n",
      "Epoch 5/10\n",
      "185/185 [==============================] - 40s 214ms/step - loss: 0.1636 - accuracy: 0.9709 - val_loss: 0.1139 - val_accuracy: 0.9871\n",
      "Epoch 6/10\n",
      "185/185 [==============================] - 40s 213ms/step - loss: 0.1291 - accuracy: 0.9741 - val_loss: 0.0891 - val_accuracy: 0.9888\n",
      "Epoch 7/10\n",
      "185/185 [==============================] - 40s 213ms/step - loss: 0.1063 - accuracy: 0.9785 - val_loss: 0.0741 - val_accuracy: 0.9905\n",
      "Epoch 8/10\n",
      "185/185 [==============================] - 39s 211ms/step - loss: 0.0964 - accuracy: 0.9790 - val_loss: 0.0612 - val_accuracy: 0.9922\n",
      "Epoch 9/10\n",
      "185/185 [==============================] - 40s 214ms/step - loss: 0.0823 - accuracy: 0.9816 - val_loss: 0.0533 - val_accuracy: 0.9922\n",
      "Epoch 10/10\n",
      "185/185 [==============================] - 40s 213ms/step - loss: 0.0732 - accuracy: 0.9841 - val_loss: 0.0482 - val_accuracy: 0.9914\n"
     ]
    }
   ],
   "source": [
    "history = model.fit(train_dataset,\n",
    "                    epochs=epochs,\n",
    "                    validation_data=validation_dataset)"
   ]
  },
  {
   "cell_type": "code",
   "execution_count": 20,
   "metadata": {},
   "outputs": [
    {
     "data": {
      "image/png": "[encoded data removed]",
      "text/plain": [
       "<Figure size 576x576 with 2 Axes>"
      ]
     },
     "metadata": {
      "needs_background": "light"
     },
     "output_type": "display_data"
    }
   ],
   "source": [
    "def visualize_stats():\n",
    "    acc = history.history['accuracy']\n",
    "    val_acc = history.history['val_accuracy']\n",
    "\n",
    "    loss = history.history['loss']\n",
    "    val_loss = history.history['val_loss']\n",
    "\n",
    "    plt.figure(figsize=(8, 8))\n",
    "    plt.subplot(2, 1, 1)\n",
    "    plt.plot(acc, label='Training Accuracy')\n",
    "    plt.plot(val_acc, label='Validation Accuracy')\n",
    "    plt.legend(loc='lower right')\n",
    "    plt.ylabel('Accuracy')\n",
    "    plt.ylim([min(plt.ylim()),1])\n",
    "    plt.title('Training and Validation Accuracy')\n",
    "\n",
    "    plt.subplot(2, 1, 2)\n",
    "    plt.plot(loss, label='Training Loss')\n",
    "    plt.plot(val_loss, label='Validation Loss')\n",
    "    plt.legend(loc='upper right')\n",
    "    plt.ylabel('Cross Entropy')\n",
    "    plt.ylim([0,1.0])\n",
    "    plt.title('Training and Validation Loss')\n",
    "    plt.xlabel('epoch')\n",
    "    plt.show()\n",
    "\n",
    "visualize_stats()"
   ]
  },
  {
   "cell_type": "code",
   "execution_count": 21,
   "metadata": {},
   "outputs": [],
   "source": [
    "model.save('model_mobilenetV2_epoch10.h5')"
   ]
  },
  {
   "cell_type": "code",
   "execution_count": 1,
   "metadata": {},
   "outputs": [
    {
     "ename": "NameError",
     "evalue": "name 'K' is not defined",
     "output_type": "error",
     "traceback": [
      "\u001b[1;31m---------------------------------------------------------------------------\u001b[0m",
      "\u001b[1;31mNameError\u001b[0m                                 Traceback (most recent call last)",
      "\u001b[1;32md:\\School\\MinorAI\\VeggieAI\\src\\model\\mobilenet_v2\\final_model.ipynb Cell 20'\u001b[0m in \u001b[0;36m<cell line: 1>\u001b[1;34m()\u001b[0m\n\u001b[1;32m----> <a href='vscode-notebook-cell:/d%3A/School/MinorAI/VeggieAI/src/model/mobilenet_v2/final_model.ipynb#ch0000019?line=0'>1</a>\u001b[0m K\u001b[39m.\u001b[39mclear_session()\n\u001b[0;32m      <a href='vscode-notebook-cell:/d%3A/School/MinorAI/VeggieAI/src/model/mobilenet_v2/final_model.ipynb#ch0000019?line=1'>2</a>\u001b[0m path_to_model\u001b[39m=\u001b[39m\u001b[39m'\u001b[39m\u001b[39m./model_inceptionV3_epoch5.h5\u001b[39m\u001b[39m'\u001b[39m\n\u001b[0;32m      <a href='vscode-notebook-cell:/d%3A/School/MinorAI/VeggieAI/src/model/mobilenet_v2/final_model.ipynb#ch0000019?line=2'>3</a>\u001b[0m \u001b[39mprint\u001b[39m(\u001b[39m\"\u001b[39m\u001b[39mLoading the model..\u001b[39m\u001b[39m\"\u001b[39m)\n",
      "\u001b[1;31mNameError\u001b[0m: name 'K' is not defined"
     ]
    }
   ],
   "source": [
    "path_to_model='./model_inceptionV3_epoch5.h5'\n",
    "print(\"Loading the model..\")\n",
    "model = keras.models.load_model(path_to_model)\n",
    "print(\"Done!\")"
   ]
  }
 ],
 "metadata": {
  "kernelspec": {
   "display_name": "Python 3.8.13 ('minor')",
   "language": "python",
   "name": "python3"
  },
  "language_info": {
   "codemirror_mode": {
    "name": "ipython",
    "version": 3
   },
   "file_extension": ".py",
   "mimetype": "text/x-python",
   "name": "python",
   "nbconvert_exporter": "python",
   "pygments_lexer": "ipython3",
   "version": "3.8.13"
  },
  "orig_nbformat": 4,
  "vscode": {
   "interpreter": {
    "hash": "ec200b7f890bb48be93acac87030ecae039745372fa51873b397a3736d4e7599"
   }
  }
 },
 "nbformat": 4,
 "nbformat_minor": 2
}
