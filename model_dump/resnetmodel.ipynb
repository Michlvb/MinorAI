{
 "cells": [
  {
   "cell_type": "code",
   "execution_count": 1,
   "id": "0a0fdbcc",
   "metadata": {},
   "outputs": [],
   "source": [
    "import matplotlib.pyplot as plt\n",
    "import numpy as np\n",
    "import os\n",
    "import tensorflow as tf\n",
    "\n",
    "IMG_SIZE = (128, 128)\n",
    "BATCH_SIZE = 32\n",
    "IMG_SHAPE = IMG_SIZE + (3, )\n"
   ]
  },
  {
   "cell_type": "code",
   "execution_count": 2,
   "id": "0e07afdb",
   "metadata": {},
   "outputs": [
    {
     "name": "stdout",
     "output_type": "stream",
     "text": [
      "Found 5201 images belonging to 5 classes.\n",
      "Found 1399 images belonging to 5 classes.\n"
     ]
    }
   ],
   "source": [
    "# With help of a tutorial I made this model, but apparently flow from directory is depraceted..\n",
    "# Should've used image data from directory\n",
    "train_dir = 'dataset/training'\n",
    "test_dir = 'dataset/test'\n",
    "\n",
    "train_data = tf.keras.preprocessing.image.ImageDataGenerator(rescale=1.0/255)\n",
    "\n",
    "train_set = train_data.flow_from_directory(train_dir,\n",
    "                                                    batch_size=BATCH_SIZE,\n",
    "                                                    shuffle=True,\n",
    "                                                    class_mode='categorical',\n",
    "                                                    target_size=IMG_SIZE)\n",
    "\n",
    "validation_data = tf.keras.preprocessing.image.ImageDataGenerator(rescale=1.0/255)\n",
    "\n",
    "validation_set = validation_data.flow_from_directory(test_dir, shuffle=True, batch_size=32, class_mode='categorical', target_size=IMG_SIZE)\n"
   ]
  },
  {
   "cell_type": "code",
   "execution_count": null,
   "id": "4804e590",
   "metadata": {},
   "outputs": [],
   "source": [
    "# Get model\n",
    "\n",
    "ResNet50 = tf.keras.applications.ResNet50(weights='imagenet', \n",
    "                                                include_top=False, \n",
    "                                                input_shape=IMG_SHAPE,\n",
    "                                                classes=5)"
   ]
  },
  {
   "cell_type": "code",
   "execution_count": null,
   "id": "c9359df6",
   "metadata": {},
   "outputs": [],
   "source": [
    "# Set layers to trainable\n",
    "for layers in ResNet50.layers:\n",
    "    layers.trainable=True"
   ]
  },
  {
   "cell_type": "code",
   "execution_count": 3,
   "id": "a1a53b66",
   "metadata": {},
   "outputs": [
    {
     "name": "stderr",
     "output_type": "stream",
     "text": [
      "2022-06-28 20:24:26.479560: I tensorflow/core/platform/cpu_feature_guard.cc:151] This TensorFlow binary is optimized with oneAPI Deep Neural Network Library (oneDNN) to use the following CPU instructions in performance-critical operations:  AVX2 FMA\n",
      "To enable them in other operations, rebuild TensorFlow with the appropriate compiler flags.\n"
     ]
    }
   ],
   "source": [
    "# Get optimizer\n",
    "optimizer = tf.keras.optimizers.SGD(\n",
    "    learning_rate=0.01, momentum=0.7, name=\"SGD\")\n",
    "\n",
    "# Create layers\n",
    "x = tf.keras.layers.Flatten()(ResNet50.output)\n",
    "x = tf.keras.layers.Dense(128, activation='relu')(x)\n",
    "x = tf.keras.layers.Dense(5, activation='softmax')(x)\n",
    "x = tf.keras.Model(inputs=ResNet50.input, outputs=x)\n",
    "x.compile(loss='categorical_crossentropy', optimizer=optimizer, metrics=['acc'])"
   ]
  },
  {
   "cell_type": "code",
   "execution_count": 4,
   "id": "3f7c71fa",
   "metadata": {},
   "outputs": [
    {
     "name": "stdout",
     "output_type": "stream",
     "text": [
      "Epoch 1/10\n",
      "163/163 [==============================] - ETA: 0s - loss: 0.1483 - acc: 0.9700\n",
      "Epoch 1: val_acc improved from -inf to 0.42816, saving model to resnet50-saved-model-01-val_acc-0.43.hdf5\n",
      "163/163 [==============================] - 519s 3s/step - loss: 0.1483 - acc: 0.9700 - val_loss: 1.5414 - val_acc: 0.4282 - lr: 0.0100\n",
      "Epoch 2/10\n",
      "163/163 [==============================] - ETA: 0s - loss: 0.0468 - acc: 0.9919\n",
      "Epoch 2: val_acc did not improve from 0.42816\n",
      "163/163 [==============================] - 669s 4s/step - loss: 0.0468 - acc: 0.9919 - val_loss: 3.6239 - val_acc: 0.1465 - lr: 0.0100\n",
      "Epoch 3/10\n",
      "163/163 [==============================] - ETA: 0s - loss: 0.0181 - acc: 0.9948\n",
      "Epoch 3: val_acc improved from 0.42816 to 0.42888, saving model to resnet50-saved-model-03-val_acc-0.43.hdf5\n",
      "163/163 [==============================] - 657s 4s/step - loss: 0.0181 - acc: 0.9948 - val_loss: 2.3735 - val_acc: 0.4289 - lr: 0.0100\n",
      "Epoch 4/10\n",
      "163/163 [==============================] - ETA: 0s - loss: 0.0059 - acc: 0.9985\n",
      "Epoch 4: val_acc improved from 0.42888 to 0.43674, saving model to resnet50-saved-model-04-val_acc-0.44.hdf5\n",
      "163/163 [==============================] - 615s 4s/step - loss: 0.0059 - acc: 0.9985 - val_loss: 2.4363 - val_acc: 0.4367 - lr: 0.0100\n",
      "Epoch 5/10\n",
      "163/163 [==============================] - ETA: 0s - loss: 0.0182 - acc: 0.9952\n",
      "Epoch 5: val_acc improved from 0.43674 to 0.51823, saving model to resnet50-saved-model-05-val_acc-0.52.hdf5\n",
      "163/163 [==============================] - 687s 4s/step - loss: 0.0182 - acc: 0.9952 - val_loss: 2.0546 - val_acc: 0.5182 - lr: 0.0100\n",
      "Epoch 6/10\n",
      "163/163 [==============================] - ETA: 0s - loss: 0.0084 - acc: 0.9983\n",
      "Epoch 6: val_acc improved from 0.51823 to 0.97498, saving model to resnet50-saved-model-06-val_acc-0.97.hdf5\n",
      "163/163 [==============================] - 667s 4s/step - loss: 0.0084 - acc: 0.9983 - val_loss: 0.0823 - val_acc: 0.9750 - lr: 0.0100\n",
      "Epoch 7/10\n",
      "163/163 [==============================] - ETA: 0s - loss: 0.0202 - acc: 0.9979\n",
      "Epoch 7: val_acc improved from 0.97498 to 0.99500, saving model to resnet50-saved-model-07-val_acc-0.99.hdf5\n",
      "163/163 [==============================] - 674s 4s/step - loss: 0.0202 - acc: 0.9979 - val_loss: 0.0163 - val_acc: 0.9950 - lr: 0.0100\n",
      "Epoch 8/10\n",
      "163/163 [==============================] - ETA: 0s - loss: 0.0021 - acc: 0.9990\n",
      "Epoch 8: val_acc improved from 0.99500 to 0.99786, saving model to resnet50-saved-model-08-val_acc-1.00.hdf5\n",
      "163/163 [==============================] - 705s 4s/step - loss: 0.0021 - acc: 0.9990 - val_loss: 0.0065 - val_acc: 0.9979 - lr: 0.0100\n",
      "Epoch 9/10\n",
      "163/163 [==============================] - ETA: 0s - loss: 0.0142 - acc: 0.9975\n",
      "Epoch 9: val_acc did not improve from 0.99786\n",
      "163/163 [==============================] - 659s 4s/step - loss: 0.0142 - acc: 0.9975 - val_loss: 0.0248 - val_acc: 0.9936 - lr: 0.0100\n",
      "Epoch 10/10\n",
      "163/163 [==============================] - ETA: 0s - loss: 0.0011 - acc: 0.9998\n",
      "Epoch 10: val_acc did not improve from 0.99786\n",
      "163/163 [==============================] - 609s 4s/step - loss: 0.0011 - acc: 0.9998 - val_loss: 0.0130 - val_acc: 0.9957 - lr: 0.0100\n"
     ]
    }
   ],
   "source": [
    "number_of_epochs = 10\n",
    "\n",
    "resnetfile = 'resnet50'+'-{epoch:02d}-val_acc-{val_acc:.2f}.hdf5'\n",
    "checkpoint = tf.keras.callbacks.ModelCheckpoint(resnetfile, monitor='val_acc', verbose=1, save_best_only=True, mode='max')\n",
    "earlyStopping = tf.keras.callbacks.EarlyStopping(monitor='loss', patience=5)\n",
    "reduceLearningRate = tf.keras.callbacks.ReduceLROnPlateau(monitor='val_loss', factor=0.05, patience=5, min_lr=0.000002)\n",
    "callbacklist = [checkpoint,earlyStopping,reduceLearningRate]\n",
    "history = x.fit(train_generator, epochs = number_of_epochs, callbacks=callbacklist, validation_data = validation_generator, verbose=1)\n"
   ]
  },
  {
   "cell_type": "code",
   "execution_count": 6,
   "id": "89e4fee8",
   "metadata": {},
   "outputs": [
    {
     "data": {
      "image/png": "[encoded data removed]",
      "text/plain": [
       "<Figure size 576x576 with 2 Axes>"
      ]
     },
     "metadata": {
      "needs_background": "light"
     },
     "output_type": "display_data"
    }
   ],
   "source": [
    "acc = history.history['acc']\n",
    "val_acc = history.history['val_acc']\n",
    "\n",
    "loss = history.history['loss']\n",
    "val_loss = history.history['val_loss']\n",
    "\n",
    "plt.figure(figsize=(8, 8))\n",
    "plt.subplot(2, 1, 1)\n",
    "plt.plot(acc, label='Training Accuracy')\n",
    "plt.plot(val_acc, label='Validation Accuracy')\n",
    "plt.legend(loc='lower right')\n",
    "plt.ylabel('Accuracy')\n",
    "plt.ylim([min(plt.ylim()),1])\n",
    "plt.title('Training and Validation Accuracy')\n",
    "\n",
    "plt.subplot(2, 1, 2)\n",
    "plt.plot(loss, label='Training Loss')\n",
    "plt.plot(val_loss, label='Validation Loss')\n",
    "plt.legend(loc='upper right')\n",
    "plt.ylabel('Cross Entropy')\n",
    "plt.ylim([0,1.0])\n",
    "plt.title('Training and Validation Loss')\n",
    "plt.xlabel('epoch')\n",
    "plt.show()"
   ]
  },
  {
   "cell_type": "code",
   "execution_count": 8,
   "id": "a86c356f",
   "metadata": {},
   "outputs": [
    {
     "name": "stdout",
     "output_type": "stream",
     "text": [
      "INFO:tensorflow:Assets written to: saved_model/resnet_model/assets\n"
     ]
    }
   ],
   "source": [
    "x.save('saved_model/resnet_model')"
   ]
  },
  {
   "cell_type": "code",
   "execution_count": null,
   "id": "32c7f73e",
   "metadata": {},
   "outputs": [],
   "source": []
  },
  {
   "cell_type": "code",
   "execution_count": null,
   "id": "216acd2d",
   "metadata": {},
   "outputs": [],
   "source": []
  },
  {
   "cell_type": "code",
   "execution_count": null,
   "id": "ff95178f",
   "metadata": {},
   "outputs": [],
   "source": []
  },
  {
   "cell_type": "code",
   "execution_count": null,
   "id": "953a4d42",
   "metadata": {},
   "outputs": [],
   "source": []
  },
  {
   "cell_type": "code",
   "execution_count": null,
   "id": "65f73a42",
   "metadata": {},
   "outputs": [],
   "source": []
  },
  {
   "cell_type": "code",
   "execution_count": null,
   "id": "c31fd8df",
   "metadata": {},
   "outputs": [],
   "source": []
  },
  {
   "cell_type": "code",
   "execution_count": null,
   "id": "94c1024b",
   "metadata": {},
   "outputs": [],
   "source": []
  },
  {
   "cell_type": "code",
   "execution_count": null,
   "id": "ab0176b9",
   "metadata": {},
   "outputs": [],
   "source": []
  }
 ],
 "metadata": {
  "kernelspec": {
   "display_name": "Python 3 (ipykernel)",
   "language": "python",
   "name": "python3"
  },
  "language_info": {
   "codemirror_mode": {
    "name": "ipython",
    "version": 3
   },
   "file_extension": ".py",
   "mimetype": "text/x-python",
   "name": "python",
   "nbconvert_exporter": "python",
   "pygments_lexer": "ipython3",
   "version": "3.7.12"
  }
 },
 "nbformat": 4,
 "nbformat_minor": 5
}
